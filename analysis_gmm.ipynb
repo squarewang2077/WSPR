{
 "cells": [
  {
   "cell_type": "markdown",
   "id": "b96ea4e3",
   "metadata": {},
   "source": [
    "# Load the gmm trained"
   ]
  },
  {
   "cell_type": "code",
   "execution_count": 1,
   "id": "07d41259",
   "metadata": {},
   "outputs": [
    {
     "name": "stdout",
     "output_type": "stream",
     "text": [
      "[GMM] package loaded from: ./log/gmm_ckp/x_indep/gmm_CE_resnet18_cifar10_cov(diag)_L(linf_0p0314)_K(3).pt\n",
      "Loaded package: ./log/gmm_ckp/x_indep/gmm_CE_resnet18_cifar10_cov(diag)_L(linf_0p0314)_K(3).pt\n",
      "Snapshot keys: ['dataset', 'arch', 'norm', 'gamma', 'mc', 'num_modes', 'cov_type', 'cov_rank', 'xdep', 'use_decoder', 'encoder_backend', 'decoder_backend', 'freeze_encoder', 'freeze_decoder', 'latent_dim', 'gan_class', 'gan_truncation']\n"
     ]
    },
    {
     "name": "stderr",
     "output_type": "stream",
     "text": [
      "/home/wang3_z@WMGDS.WMG.WARWICK.AC.UK/WSPR/fit_gmm.py:482: FutureWarning: You are using `torch.load` with `weights_only=False` (the current default value), which uses the default pickle module implicitly. It is possible to construct malicious pickle data which will execute arbitrary code during unpickling (See https://github.com/pytorch/pytorch/blob/main/SECURITY.md#untrusted-models for more details). In a future release, the default value for `weights_only` will be flipped to `True`. This limits the functions that could be executed during unpickling. Arbitrary objects will no longer be allowed to be loaded via this mode unless they are explicitly allowlisted by the user via `torch.serialization.add_safe_globals`. We recommend you start setting `weights_only=True` for any use case where you don't have full control of the loaded file. Please open an issue on GitHub for any issues related to this experimental feature.\n",
      "  pkg = torch.load(filepath, map_location=\"cpu\")\n"
     ]
    }
   ],
   "source": [
    "# Notebook-friendly imports\n",
    "import os\n",
    "from types import SimpleNamespace\n",
    "\n",
    "import torch\n",
    "\n",
    "# our utils\n",
    "from utils import (\n",
    "    get_dataset, build_model, eval_acc, parse_batch_spec,\n",
    "    build_encoder, load_decoder_backend, g_ball\n",
    ")\n",
    "from fit_gmm import GMM  # our GMM class (including compute_pr_on_clean_correct)\n",
    "\n",
    "# path to GMM package & classifier ckpt\n",
    "PKG_PATH  = \"./log/gmm_ckp/x_indep/gmm_CE_resnet18_cifar10_cov(diag)_L(linf_0p0314)_K(3).pt\"\n",
    "CLF_CKPT  = \"./model_zoo/trained_model/sketch/resnet18_cifar10.pth\"\n",
    "\n",
    "# optional settings\n",
    "DEVICE    = \"cuda\" if torch.cuda.is_available() else \"cpu\"\n",
    "S_SAMPLES = 100        # PR number of MC samples per image\n",
    "BATCH_IDX = \"\"         # the batch index，e.g. \"0,3,5-10\"；\"\" means all batches\n",
    "BATCH_SIZE= 128        # the batch size for the evaluation DataLoader\n",
    "\n",
    "device = torch.device(DEVICE)\n",
    "\n",
    "if not os.path.isfile(PKG_PATH):\n",
    "    raise FileNotFoundError(PKG_PATH)\n",
    "\n",
    "# let out_shape=None first，refill out_shape later after we load dataset\n",
    "# (because out_shape depends on dataset)\n",
    "gmm, enc_loaded, dec_loaded, meta = GMM.load_package(\n",
    "    filepath=PKG_PATH,\n",
    "    device=device,\n",
    "    build_encoder_fn=build_encoder,\n",
    "    load_decoder_backend_fn=load_decoder_backend,\n",
    "    out_shape=None\n",
    ")\n",
    "\n",
    "# use snapshot to rebuild dataset, model, feat_extractor\n",
    "snap = meta.get(\"args_snapshot\") or {}\n",
    "eva  = SimpleNamespace(**snap)  # eva.dataset / eva.arch / eva.gamma / eva.norm / ...\n",
    "\n",
    "# addtional settings (override snapshot) for classfier ckpt & eval\n",
    "clf_ckpt = getattr(eva, \"clf_ckpt\", None) or CLF_CKPT\n",
    "print(\"Loaded package:\", PKG_PATH)\n",
    "print(\"Snapshot keys:\", list(snap.keys()))\n"
   ]
  },
  {
   "cell_type": "markdown",
   "id": "90bcd08f",
   "metadata": {},
   "source": [
    "# Get datasets "
   ]
  },
  {
   "cell_type": "code",
   "execution_count": 2,
   "id": "3e48160b",
   "metadata": {},
   "outputs": [
    {
     "name": "stdout",
     "output_type": "stream",
     "text": [
      "Files already downloaded and verified\n",
      "Dataset: cifar10 num_classes: 10 out_shape: (3, 32, 32)\n"
     ]
    }
   ],
   "source": [
    "dataset, num_classes, out_shape = get_dataset(eva.dataset, train=False)\n",
    "loader = torch.utils.data.DataLoader(\n",
    "    dataset, batch_size=BATCH_SIZE, shuffle=False, num_workers=2, pin_memory=True\n",
    ")\n",
    "print(\"Dataset:\", eva.dataset, \"num_classes:\", num_classes, \"out_shape:\", out_shape)\n"
   ]
  },
  {
   "cell_type": "markdown",
   "id": "f5bbe5c0",
   "metadata": {},
   "source": [
    "# Load classifiers check-point"
   ]
  },
  {
   "cell_type": "code",
   "execution_count": 3,
   "id": "24d417f2",
   "metadata": {},
   "outputs": [
    {
     "name": "stdout",
     "output_type": "stream",
     "text": [
      "[clf] loaded. missing=0 unexpected=0\n",
      "[clf] accuracy=86.78%\n",
      "[clean acc] 86.78%\n"
     ]
    }
   ],
   "source": [
    "model, feat_extractor = build_model(eva.arch, num_classes, device)\n",
    "\n",
    "# load classifier ckpt\n",
    "state = torch.load(clf_ckpt, map_location=\"cpu\", weights_only=False)\n",
    "if \"state_dict\" in state:\n",
    "    state = state[\"state_dict\"]\n",
    "state = {k.replace(\"module.\", \"\"): v for k, v in state.items()}\n",
    "missing, unexpected = model.load_state_dict(state, strict=False)\n",
    "print(f\"[clf] loaded. missing={len(missing)} unexpected={len(unexpected)}\")\n",
    "\n",
    "# freeze & eval()\n",
    "model = model.to(device).eval();  [p.requires_grad_(False) for p in model.parameters()]\n",
    "feat_extractor = feat_extractor.to(device).eval(); [p.requires_grad_(False) for p in feat_extractor.parameters()]\n",
    "\n",
    "# check accuracy on clean data\n",
    "acc_clean = eval_acc(model, dataset, device)\n",
    "print(f\"[clean acc] {acc_clean*100:.2f}%\")"
   ]
  },
  {
   "cell_type": "markdown",
   "id": "4f8c8500",
   "metadata": {},
   "source": [
    "# Compute PR"
   ]
  },
  {
   "cell_type": "code",
   "execution_count": 4,
   "id": "8359015b",
   "metadata": {},
   "outputs": [
    {
     "name": "stdout",
     "output_type": "stream",
     "text": [
      "[PR@clean] used=8678 / seen=10000 (clean acc=86.78%), S=100 → PR=0.9761\n",
      "[PR] used=8678  clean-acc=86.78%  PR=0.9761\n"
     ]
    }
   ],
   "source": [
    "# whether use encoder & decoder and xdep\n",
    "# all from the loaded GMM package\n",
    "xdep        = meta[\"gmm_config\"][\"xdep\"] \n",
    "use_decoder = meta[\"decoder_info\"].get(\"use_decoder\", False)\n",
    "encoder_for_eval = enc_loaded if xdep else None\n",
    "decoder_for_eval = dec_loaded if use_decoder else None\n",
    "\n",
    "# the batch to be evaluated\n",
    "pr_sel = parse_batch_spec(BATCH_IDX)\n",
    "\n",
    "# compute PR (on clean correct samples)\n",
    "pr, n_used, clean_acc = gmm.compute_pr_on_clean_correct(\n",
    "    model=model,\n",
    "    loader=loader,\n",
    "    out_shape=out_shape,\n",
    "    encoder=encoder_for_eval,\n",
    "    decoder=decoder_for_eval,\n",
    "    S=S_SAMPLES,\n",
    "    gamma=eva.gamma,          # from training snapshot\n",
    "    norm_type=eva.norm,       # from training snapshot\n",
    "    use_decoder=use_decoder,\n",
    "    batch_indices=pr_sel\n",
    ")\n",
    "print(f\"[PR] used={n_used}  clean-acc={clean_acc*100:.2f}%  PR={pr:.4f}\")\n"
   ]
  },
  {
   "cell_type": "markdown",
   "id": "5d7ef6b3",
   "metadata": {},
   "source": [
    "# Visualization \n",
    "## 1. Inputs independent results "
   ]
  },
  {
   "cell_type": "code",
   "execution_count": 10,
   "id": "b1176ad1",
   "metadata": {},
   "outputs": [
    {
     "data": {
      "text/plain": [
       "(torch.Size([3]), torch.Size([3, 3072]), torch.Size([3, 3072, 3072]))"
      ]
     },
     "execution_count": 10,
     "metadata": {},
     "output_type": "execute_result"
    }
   ],
   "source": [
    "from utils.viz_gmm import cov_to_full, plot_tensor_bars\n",
    "import matplotlib.colors as mcolors\n",
    "\n",
    "blue_cmap = mcolors.LinearSegmentedColormap.from_list(\n",
    "    \"blue_white\", [\"navy\", \"white\"]   # 起点 navy 深蓝, 终点白色\n",
    ")\n",
    "\n",
    "\n",
    "feat = torch.empty(1, 0, device=device) # for x-indep GMM\n",
    "# (1,0) because head expects a batch dimension\n",
    "\n",
    "pi_b, mu_b, cov_b = gmm(feat) # pi:(1,K), mu:(1,K,D)\n",
    "pi = pi_b[0]\n",
    "mu = mu_b[0] \n",
    "\n",
    "K = pi.shape[0] # number of components\n",
    "D = mu.shape[1] # feature dimension\n",
    "\n",
    "# for full Sigma setup\n",
    "if gmm.cov_type == \"diag\":\n",
    "    Sigma = cov_to_full(cov_b[0], \"diag\") # (K,D,D)\n",
    "elif gmm.cov_type == \"full\":\n",
    "    Sigma = cov_to_full(cov_b[0], \"full\")\n",
    "else:\n",
    "    U, sigma = cov_b\n",
    "    Sigma = cov_to_full((U[0], sigma[0]), \"lowrank\")\n",
    "\n",
    "pi.shape, mu.shape, Sigma.shape  # (K,), (K,D), (K,D,D)"
   ]
  },
  {
   "cell_type": "code",
   "execution_count": null,
   "id": "2748d7c4",
   "metadata": {},
   "outputs": [
    {
     "ename": "TypeError",
     "evalue": "object of type 'LinearSegmentedColormap' has no len()",
     "output_type": "error",
     "traceback": [
      "\u001b[0;31m---------------------------------------------------------------------------\u001b[0m",
      "\u001b[0;31mTypeError\u001b[0m                                 Traceback (most recent call last)",
      "Cell \u001b[0;32mIn[11], line 1\u001b[0m\n\u001b[0;32m----> 1\u001b[0m \u001b[43mplot_tensor_bars\u001b[49m\u001b[43m(\u001b[49m\u001b[43mpi\u001b[49m\u001b[43m,\u001b[49m\u001b[43m \u001b[49m\u001b[43mxticks_step\u001b[49m\u001b[38;5;241;43m=\u001b[39;49m\u001b[38;5;241;43m1\u001b[39;49m\u001b[43m,\u001b[49m\u001b[43m \u001b[49m\n\u001b[1;32m      2\u001b[0m \u001b[43m                 \u001b[49m\u001b[43mtitles\u001b[49m\u001b[38;5;241;43m=\u001b[39;49m\u001b[38;5;124;43mr\u001b[39;49m\u001b[38;5;124;43m\"\u001b[39;49m\u001b[38;5;124;43mMixture weights $\u001b[39;49m\u001b[38;5;124;43m\\\u001b[39;49m\u001b[38;5;124;43mpi$\u001b[39;49m\u001b[38;5;124;43m\"\u001b[39;49m\u001b[43m,\u001b[49m\u001b[43m \u001b[49m\n\u001b[1;32m      3\u001b[0m \u001b[43m                 \u001b[49m\u001b[43mylabel\u001b[49m\u001b[38;5;241;43m=\u001b[39;49m\u001b[38;5;124;43mr\u001b[39;49m\u001b[38;5;124;43m\"\u001b[39;49m\u001b[38;5;124;43m$\u001b[39;49m\u001b[38;5;124;43m\\\u001b[39;49m\u001b[38;5;124;43mpi_k$\u001b[39;49m\u001b[38;5;124;43m\"\u001b[39;49m\u001b[43m,\u001b[49m\u001b[43m \u001b[49m\n\u001b[1;32m      4\u001b[0m \u001b[43m                 \u001b[49m\u001b[43mxlabel\u001b[49m\u001b[38;5;241;43m=\u001b[39;49m\u001b[38;5;124;43mr\u001b[39;49m\u001b[38;5;124;43m\"\u001b[39;49m\u001b[38;5;124;43mComponent $k$\u001b[39;49m\u001b[38;5;124;43m\"\u001b[39;49m\u001b[43m,\u001b[49m\n\u001b[1;32m      5\u001b[0m \u001b[43m                 \u001b[49m\u001b[43mcolor\u001b[49m\u001b[38;5;241;43m=\u001b[39;49m\u001b[43mblue_cmap\u001b[49m\u001b[43m)\u001b[49m\n",
      "File \u001b[0;32m~/WSPR/utils/viz_gmm.py:39\u001b[0m, in \u001b[0;36mplot_tensor_bars\u001b[0;34m(t, titles, xlabel, ylabel, xticks_step, col_wrap, sharey, bar_width, color, figsize)\u001b[0m\n\u001b[1;32m     37\u001b[0m fig, ax \u001b[38;5;241m=\u001b[39m plt\u001b[38;5;241m.\u001b[39msubplots(\u001b[38;5;241m1\u001b[39m, \u001b[38;5;241m1\u001b[39m, figsize\u001b[38;5;241m=\u001b[39mfigsize, constrained_layout\u001b[38;5;241m=\u001b[39m\u001b[38;5;28;01mTrue\u001b[39;00m)\n\u001b[1;32m     38\u001b[0m _style_axes(ax)\n\u001b[0;32m---> 39\u001b[0m \u001b[43max\u001b[49m\u001b[38;5;241;43m.\u001b[39;49m\u001b[43mbar\u001b[49m\u001b[43m(\u001b[49m\u001b[43mnp\u001b[49m\u001b[38;5;241;43m.\u001b[39;49m\u001b[43marange\u001b[49m\u001b[43m(\u001b[49m\u001b[43mK\u001b[49m\u001b[43m)\u001b[49m\u001b[43m,\u001b[49m\u001b[43m \u001b[49m\u001b[43mx\u001b[49m\u001b[43m,\u001b[49m\u001b[43m \u001b[49m\u001b[43mwidth\u001b[49m\u001b[38;5;241;43m=\u001b[39;49m\u001b[43mbar_width\u001b[49m\u001b[43m,\u001b[49m\u001b[43m \u001b[49m\u001b[43mcolor\u001b[49m\u001b[38;5;241;43m=\u001b[39;49m\u001b[43mcolor\u001b[49m\u001b[43m,\u001b[49m\u001b[43m \u001b[49m\u001b[43medgecolor\u001b[49m\u001b[38;5;241;43m=\u001b[39;49m\u001b[38;5;124;43m\"\u001b[39;49m\u001b[38;5;124;43m0.0\u001b[39;49m\u001b[38;5;124;43m\"\u001b[39;49m\u001b[43m,\u001b[49m\u001b[43m \u001b[49m\u001b[43mlinewidth\u001b[49m\u001b[38;5;241;43m=\u001b[39;49m\u001b[38;5;241;43m0.6\u001b[39;49m\u001b[43m)\u001b[49m\n\u001b[1;32m     40\u001b[0m ax\u001b[38;5;241m.\u001b[39mset_xticks(np\u001b[38;5;241m.\u001b[39marange(\u001b[38;5;241m0\u001b[39m, K, xticks_step))\n\u001b[1;32m     41\u001b[0m ax\u001b[38;5;241m.\u001b[39mset_xticklabels([\u001b[38;5;28mstr\u001b[39m(i\u001b[38;5;241m+\u001b[39m\u001b[38;5;241m1\u001b[39m) \u001b[38;5;28;01mfor\u001b[39;00m i \u001b[38;5;129;01min\u001b[39;00m \u001b[38;5;28mrange\u001b[39m(\u001b[38;5;241m0\u001b[39m, K, xticks_step)])\n",
      "File \u001b[0;32m~/miniconda3/envs/WSPR/lib/python3.10/site-packages/matplotlib/__init__.py:1521\u001b[0m, in \u001b[0;36m_preprocess_data.<locals>.inner\u001b[0;34m(ax, data, *args, **kwargs)\u001b[0m\n\u001b[1;32m   1518\u001b[0m \u001b[38;5;129m@functools\u001b[39m\u001b[38;5;241m.\u001b[39mwraps(func)\n\u001b[1;32m   1519\u001b[0m \u001b[38;5;28;01mdef\u001b[39;00m\u001b[38;5;250m \u001b[39m\u001b[38;5;21minner\u001b[39m(ax, \u001b[38;5;241m*\u001b[39margs, data\u001b[38;5;241m=\u001b[39m\u001b[38;5;28;01mNone\u001b[39;00m, \u001b[38;5;241m*\u001b[39m\u001b[38;5;241m*\u001b[39mkwargs):\n\u001b[1;32m   1520\u001b[0m     \u001b[38;5;28;01mif\u001b[39;00m data \u001b[38;5;129;01mis\u001b[39;00m \u001b[38;5;28;01mNone\u001b[39;00m:\n\u001b[0;32m-> 1521\u001b[0m         \u001b[38;5;28;01mreturn\u001b[39;00m \u001b[43mfunc\u001b[49m\u001b[43m(\u001b[49m\n\u001b[1;32m   1522\u001b[0m \u001b[43m            \u001b[49m\u001b[43max\u001b[49m\u001b[43m,\u001b[49m\n\u001b[1;32m   1523\u001b[0m \u001b[43m            \u001b[49m\u001b[38;5;241;43m*\u001b[39;49m\u001b[38;5;28;43mmap\u001b[39;49m\u001b[43m(\u001b[49m\u001b[43mcbook\u001b[49m\u001b[38;5;241;43m.\u001b[39;49m\u001b[43msanitize_sequence\u001b[49m\u001b[43m,\u001b[49m\u001b[43m \u001b[49m\u001b[43margs\u001b[49m\u001b[43m)\u001b[49m\u001b[43m,\u001b[49m\n\u001b[1;32m   1524\u001b[0m \u001b[43m            \u001b[49m\u001b[38;5;241;43m*\u001b[39;49m\u001b[38;5;241;43m*\u001b[39;49m\u001b[43m{\u001b[49m\u001b[43mk\u001b[49m\u001b[43m:\u001b[49m\u001b[43m \u001b[49m\u001b[43mcbook\u001b[49m\u001b[38;5;241;43m.\u001b[39;49m\u001b[43msanitize_sequence\u001b[49m\u001b[43m(\u001b[49m\u001b[43mv\u001b[49m\u001b[43m)\u001b[49m\u001b[43m \u001b[49m\u001b[38;5;28;43;01mfor\u001b[39;49;00m\u001b[43m \u001b[49m\u001b[43mk\u001b[49m\u001b[43m,\u001b[49m\u001b[43m \u001b[49m\u001b[43mv\u001b[49m\u001b[43m \u001b[49m\u001b[38;5;129;43;01min\u001b[39;49;00m\u001b[43m \u001b[49m\u001b[43mkwargs\u001b[49m\u001b[38;5;241;43m.\u001b[39;49m\u001b[43mitems\u001b[49m\u001b[43m(\u001b[49m\u001b[43m)\u001b[49m\u001b[43m}\u001b[49m\u001b[43m)\u001b[49m\n\u001b[1;32m   1526\u001b[0m     bound \u001b[38;5;241m=\u001b[39m new_sig\u001b[38;5;241m.\u001b[39mbind(ax, \u001b[38;5;241m*\u001b[39margs, \u001b[38;5;241m*\u001b[39m\u001b[38;5;241m*\u001b[39mkwargs)\n\u001b[1;32m   1527\u001b[0m     auto_label \u001b[38;5;241m=\u001b[39m (bound\u001b[38;5;241m.\u001b[39marguments\u001b[38;5;241m.\u001b[39mget(label_namer)\n\u001b[1;32m   1528\u001b[0m                   \u001b[38;5;129;01mor\u001b[39;00m bound\u001b[38;5;241m.\u001b[39mkwargs\u001b[38;5;241m.\u001b[39mget(label_namer))\n",
      "File \u001b[0;32m~/miniconda3/envs/WSPR/lib/python3.10/site-packages/matplotlib/axes/_axes.py:2510\u001b[0m, in \u001b[0;36mAxes.bar\u001b[0;34m(self, x, height, width, bottom, align, **kwargs)\u001b[0m\n\u001b[1;32m   2378\u001b[0m \u001b[38;5;250m\u001b[39m\u001b[38;5;124mr\u001b[39m\u001b[38;5;124;03m\"\"\"\u001b[39;00m\n\u001b[1;32m   2379\u001b[0m \u001b[38;5;124;03mMake a bar plot.\u001b[39;00m\n\u001b[1;32m   2380\u001b[0m \n\u001b[0;32m   (...)\u001b[0m\n\u001b[1;32m   2507\u001b[0m \u001b[38;5;124;03mbar. See :doc:`/gallery/lines_bars_and_markers/bar_stacked`.\u001b[39;00m\n\u001b[1;32m   2508\u001b[0m \u001b[38;5;124;03m\"\"\"\u001b[39;00m\n\u001b[1;32m   2509\u001b[0m kwargs \u001b[38;5;241m=\u001b[39m cbook\u001b[38;5;241m.\u001b[39mnormalize_kwargs(kwargs, mpatches\u001b[38;5;241m.\u001b[39mPatch)\n\u001b[0;32m-> 2510\u001b[0m facecolor, edgecolor \u001b[38;5;241m=\u001b[39m \u001b[38;5;28;43mself\u001b[39;49m\u001b[38;5;241;43m.\u001b[39;49m\u001b[43m_parse_bar_color_args\u001b[49m\u001b[43m(\u001b[49m\u001b[43mkwargs\u001b[49m\u001b[43m)\u001b[49m\n\u001b[1;32m   2512\u001b[0m linewidth \u001b[38;5;241m=\u001b[39m kwargs\u001b[38;5;241m.\u001b[39mpop(\u001b[38;5;124m'\u001b[39m\u001b[38;5;124mlinewidth\u001b[39m\u001b[38;5;124m'\u001b[39m, \u001b[38;5;28;01mNone\u001b[39;00m)\n\u001b[1;32m   2513\u001b[0m hatch \u001b[38;5;241m=\u001b[39m kwargs\u001b[38;5;241m.\u001b[39mpop(\u001b[38;5;124m'\u001b[39m\u001b[38;5;124mhatch\u001b[39m\u001b[38;5;124m'\u001b[39m, \u001b[38;5;28;01mNone\u001b[39;00m)\n",
      "File \u001b[0;32m~/miniconda3/envs/WSPR/lib/python3.10/site-packages/matplotlib/axes/_axes.py:2365\u001b[0m, in \u001b[0;36mAxes._parse_bar_color_args\u001b[0;34m(self, kwargs)\u001b[0m\n\u001b[1;32m   2361\u001b[0m facecolor \u001b[38;5;241m=\u001b[39m (facecolor \u001b[38;5;28;01mif\u001b[39;00m facecolor \u001b[38;5;129;01mis\u001b[39;00m \u001b[38;5;129;01mnot\u001b[39;00m \u001b[38;5;28;01mNone\u001b[39;00m\n\u001b[1;32m   2362\u001b[0m              \u001b[38;5;28;01melse\u001b[39;00m \u001b[38;5;28mself\u001b[39m\u001b[38;5;241m.\u001b[39m_get_patches_for_fill\u001b[38;5;241m.\u001b[39mget_next_color())\n\u001b[1;32m   2364\u001b[0m \u001b[38;5;28;01mtry\u001b[39;00m:\n\u001b[0;32m-> 2365\u001b[0m     facecolor \u001b[38;5;241m=\u001b[39m \u001b[43mmcolors\u001b[49m\u001b[38;5;241;43m.\u001b[39;49m\u001b[43mto_rgba_array\u001b[49m\u001b[43m(\u001b[49m\u001b[43mfacecolor\u001b[49m\u001b[43m)\u001b[49m\n\u001b[1;32m   2366\u001b[0m \u001b[38;5;28;01mexcept\u001b[39;00m \u001b[38;5;167;01mValueError\u001b[39;00m \u001b[38;5;28;01mas\u001b[39;00m err:\n\u001b[1;32m   2367\u001b[0m     \u001b[38;5;28;01mraise\u001b[39;00m \u001b[38;5;167;01mValueError\u001b[39;00m(\n\u001b[1;32m   2368\u001b[0m         \u001b[38;5;124m\"\u001b[39m\u001b[38;5;124m'\u001b[39m\u001b[38;5;124mfacecolor\u001b[39m\u001b[38;5;124m'\u001b[39m\u001b[38;5;124m or \u001b[39m\u001b[38;5;124m'\u001b[39m\u001b[38;5;124mcolor\u001b[39m\u001b[38;5;124m'\u001b[39m\u001b[38;5;124m argument must be a valid color or\u001b[39m\u001b[38;5;124m\"\u001b[39m\n\u001b[1;32m   2369\u001b[0m             \u001b[38;5;124m\"\u001b[39m\u001b[38;5;124msequence of colors.\u001b[39m\u001b[38;5;124m\"\u001b[39m\n\u001b[1;32m   2370\u001b[0m     ) \u001b[38;5;28;01mfrom\u001b[39;00m\u001b[38;5;250m \u001b[39m\u001b[38;5;21;01merr\u001b[39;00m\n",
      "File \u001b[0;32m~/miniconda3/envs/WSPR/lib/python3.10/site-packages/matplotlib/colors.py:501\u001b[0m, in \u001b[0;36mto_rgba_array\u001b[0;34m(c, alpha)\u001b[0m\n\u001b[1;32m    498\u001b[0m \u001b[38;5;28;01mif\u001b[39;00m \u001b[38;5;28misinstance\u001b[39m(c, \u001b[38;5;28mstr\u001b[39m):\n\u001b[1;32m    499\u001b[0m     \u001b[38;5;28;01mraise\u001b[39;00m \u001b[38;5;167;01mValueError\u001b[39;00m(\u001b[38;5;124mf\u001b[39m\u001b[38;5;124m\"\u001b[39m\u001b[38;5;132;01m{\u001b[39;00mc\u001b[38;5;132;01m!r}\u001b[39;00m\u001b[38;5;124m is not a valid color value.\u001b[39m\u001b[38;5;124m\"\u001b[39m)\n\u001b[0;32m--> 501\u001b[0m \u001b[38;5;28;01mif\u001b[39;00m \u001b[38;5;28;43mlen\u001b[39;49m\u001b[43m(\u001b[49m\u001b[43mc\u001b[49m\u001b[43m)\u001b[49m \u001b[38;5;241m==\u001b[39m \u001b[38;5;241m0\u001b[39m:\n\u001b[1;32m    502\u001b[0m     \u001b[38;5;28;01mreturn\u001b[39;00m np\u001b[38;5;241m.\u001b[39mzeros((\u001b[38;5;241m0\u001b[39m, \u001b[38;5;241m4\u001b[39m), \u001b[38;5;28mfloat\u001b[39m)\n\u001b[1;32m    504\u001b[0m \u001b[38;5;66;03m# Quick path if the whole sequence can be directly converted to a numpy\u001b[39;00m\n\u001b[1;32m    505\u001b[0m \u001b[38;5;66;03m# array in one shot.\u001b[39;00m\n",
      "\u001b[0;31mTypeError\u001b[0m: object of type 'LinearSegmentedColormap' has no len()"
     ]
    },
    {
     "data": {
      "image/png": "[encoded data removed]",
      "text/plain": [
       "<Figure size 300x320 with 1 Axes>"
      ]
     },
     "metadata": {},
     "output_type": "display_data"
    }
   ],
   "source": [
    "plot_tensor_bars(pi, xticks_step=1, \n",
    "                 titles=r\"Mixture weights $\\pi$\", \n",
    "                 ylabel=r\"$\\pi_k$\", \n",
    "                 xlabel=r\"Component $k$\",\n",
    "                 cmap = blue_cmap)"
   ]
  },
  {
   "cell_type": "markdown",
   "id": "2d4445c7",
   "metadata": {},
   "source": [
    "### PCA for distributions "
   ]
  },
  {
   "cell_type": "code",
   "execution_count": 7,
   "id": "34082bfc",
   "metadata": {},
   "outputs": [],
   "source": [
    "from utils.viz_gmm import pick_projection\n",
    "proj, proj_2d = pick_projection(Sigma, pi, max_dim=32)  # (D,d) (D,2)\n",
    "\n",
    "# projection for each component\n",
    "mu_proj = mu @ proj        # (K,d)\n",
    "Sigma_proj = torch.stack([proj.t() @ Sigma[k] @ proj for k in range(K)], dim=0)  # (K,d,d)\n",
    "\n",
    "# 2-d projection for contour plot\n",
    "mu_proj_2d = mu @ proj_2d  # (K,2)\n",
    "Sigma_proj_2d = torch.stack([proj_2d.T @ Sigma[k] @ proj_2d for k in range(K)], dim=0)  # (K,2,2)\n"
   ]
  },
  {
   "cell_type": "code",
   "execution_count": 8,
   "id": "9d8dee8d",
   "metadata": {},
   "outputs": [
    {
     "data": {
      "text/plain": [
       "(<Figure size 900x260 with 3 Axes>,\n",
       " array([[<Axes: title={'center': 'K=1'}, ylabel='$\\\\mu$'>,\n",
       "         <Axes: title={'center': 'K=2'}>, <Axes: title={'center': 'K=3'}>]],\n",
       "       dtype=object))"
      ]
     },
     "execution_count": 8,
     "metadata": {},
     "output_type": "execute_result"
    },
    {
     "data": {
      "image/png": "[encoded data removed]",
      "text/plain": [
       "<Figure size 900x260 with 3 Axes>"
      ]
     },
     "metadata": {},
     "output_type": "display_data"
    }
   ],
   "source": [
    "plot_tensor_bars(mu_proj, xticks_step=4, \n",
    "                 titles=[f\"K={i+1}\" for i in range(K)], \n",
    "                 ylabel=r\"$\\mu$\")"
   ]
  },
  {
   "cell_type": "code",
   "execution_count": 9,
   "id": "edc63471",
   "metadata": {},
   "outputs": [
    {
     "data": {
      "image/png": "[encoded data removed]",
      "text/plain": [
       "<Figure size 840x280 with 4 Axes>"
      ]
     },
     "metadata": {},
     "output_type": "display_data"
    }
   ],
   "source": [
    "import matplotlib.colors as mcolors\n",
    "from utils.viz_gmm import plot_tensor_heatmaps\n",
    "import matplotlib.pyplot as plt\n",
    "\n",
    "blue_cmap = mcolors.LinearSegmentedColormap.from_list(\n",
    "    \"blue_white\", [\"navy\", \"white\"]   # 起点 navy 深蓝, 终点白色\n",
    ")\n",
    "\n",
    "plot_tensor_heatmaps(\n",
    "    Sigma_proj,\n",
    "    titles=[rf\"$\\Sigma_{i+1}$\" for i in range(3)],\n",
    "    nrows=1, ncols=3,        # 手动 1 行 3 列\n",
    "    reverse_cmap=True,       # 颜色对调\n",
    "    share_color=True,\n",
    "    xtick_step=5,\n",
    "    cmap=blue_cmap\n",
    ")\n",
    "plt.show()\n"
   ]
  }
 ],
 "metadata": {
  "kernelspec": {
   "display_name": "WSPR",
   "language": "python",
   "name": "python3"
  },
  "language_info": {
   "codemirror_mode": {
    "name": "ipython",
    "version": 3
   },
   "file_extension": ".py",
   "mimetype": "text/x-python",
   "name": "python",
   "nbconvert_exporter": "python",
   "pygments_lexer": "ipython3",
   "version": "3.10.18"
  }
 },
 "nbformat": 4,
 "nbformat_minor": 5
}
