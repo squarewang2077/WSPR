{
 "cells": [
  {
   "cell_type": "markdown",
   "id": "f3e431d8",
   "metadata": {},
   "source": [
    "# Load the gmm trained"
   ]
  },
  {
   "cell_type": "code",
   "execution_count": 14,
   "id": "c2ff8b57",
   "metadata": {},
   "outputs": [
    {
     "name": "stdout",
     "output_type": "stream",
     "text": [
      "[GMM] package loaded from: ./log/gmm_ckp/x_dep/gmm_CWlike_resnet18_cifar10_cov(lowrank)_L(linf_0p0627)_K(7).pt\n",
      "Loaded package: ./log/gmm_ckp/x_dep/gmm_CWlike_resnet18_cifar10_cov(lowrank)_L(linf_0p0627)_K(7).pt\n",
      "Snapshot keys: ['dataset', 'arch', 'norm', 'gamma', 'mc', 'num_modes', 'cov_type', 'cov_rank', 'xdep', 'use_decoder', 'encoder_backend', 'decoder_backend', 'freeze_encoder', 'freeze_decoder', 'latent_dim', 'gan_class', 'gan_truncation']\n"
     ]
    }
   ],
   "source": [
    "# Notebook-friendly imports\n",
    "import os\n",
    "os.environ[\"CUDA_VISIBLE_DEVICES\"] = \"1\" \n",
    "from types import SimpleNamespace\n",
    "\n",
    "import torch\n",
    "\n",
    "# our utils\n",
    "from utils import (\n",
    "    get_dataset, build_model, eval_acc, parse_batch_spec,\n",
    "    build_encoder, load_decoder_backend, g_ball\n",
    ")\n",
    "from fit_gmm import GMM  # our GMM class (including compute_pr_on_clean_correct)\n",
    "\n",
    "# path to GMM package & classifier ckpt\n",
    "PKG_PATH  = \"./log/gmm_ckp/x_dep/gmm_CWlike_resnet18_cifar10_cov(lowrank)_L(linf_0p0627)_K(7).pt\"\n",
    "CLF_CKPT  = \"./model_zoo/trained_model/sketch/resnet18_cifar10.pth\"\n",
    "\n",
    "# optional settings\n",
    "DEVICE    = \"cuda\" if torch.cuda.is_available() else \"cpu\"\n",
    "S_SAMPLES = 10        # PR number of MC samples per image\n",
    "BATCH_IDX = \"0-20\"         # the batch index，e.g. \"0,3,5-10\"；\"\" means all batches\n",
    "BATCH_SIZE= 128        # the batch size for the evaluation DataLoader\n",
    "\n",
    "device = torch.device(DEVICE)\n",
    "\n",
    "if not os.path.isfile(PKG_PATH):\n",
    "    raise FileNotFoundError(PKG_PATH)\n",
    "\n",
    "# let out_shape=None first，refill out_shape later after we load dataset\n",
    "# (because out_shape depends on dataset)\n",
    "gmm, enc_loaded, dec_loaded, meta = GMM.load_package(\n",
    "    filepath=PKG_PATH,\n",
    "    device=device,\n",
    "    build_encoder_fn=build_encoder,\n",
    "    load_decoder_backend_fn=load_decoder_backend,\n",
    "    out_shape=None\n",
    ")\n",
    "\n",
    "# use snapshot to rebuild dataset, model, feat_extractor\n",
    "snap = meta.get(\"args_snapshot\") or {}\n",
    "eva  = SimpleNamespace(**snap)  # eva.dataset / eva.arch / eva.gamma / eva.norm / ...\n",
    "\n",
    "# addtional settings (override snapshot) for classfier ckpt & eval\n",
    "clf_ckpt = getattr(eva, \"clf_ckpt\", None) or CLF_CKPT\n",
    "print(\"Loaded package:\", PKG_PATH)\n",
    "print(\"Snapshot keys:\", list(snap.keys()))\n"
   ]
  },
  {
   "cell_type": "markdown",
   "id": "c200dbf2",
   "metadata": {},
   "source": [
    "# load dataset and model"
   ]
  },
  {
   "cell_type": "code",
   "execution_count": 15,
   "id": "3e48160b",
   "metadata": {},
   "outputs": [
    {
     "name": "stdout",
     "output_type": "stream",
     "text": [
      "Files already downloaded and verified\n",
      "Dataset: cifar10 num_classes: 10 out_shape: (3, 32, 32)\n",
      "[clf] loaded. missing=0 unexpected=0\n",
      "[clf] accuracy=86.78%\n",
      "[clean acc] 86.78%\n"
     ]
    }
   ],
   "source": [
    "dataset, num_classes, out_shape = get_dataset(eva.dataset, train=False)\n",
    "loader = torch.utils.data.DataLoader(\n",
    "    dataset, batch_size=BATCH_SIZE, shuffle=False, num_workers=2, pin_memory=True\n",
    ")\n",
    "print(\"Dataset:\", eva.dataset, \"num_classes:\", num_classes, \"out_shape:\", out_shape)\n",
    "\n",
    "\n",
    "model, feat_extractor = build_model(eva.arch, num_classes, device)\n",
    "\n",
    "# load classifier ckpt\n",
    "state = torch.load(clf_ckpt, map_location=\"cpu\", weights_only=False)\n",
    "if \"state_dict\" in state:\n",
    "    state = state[\"state_dict\"]\n",
    "state = {k.replace(\"module.\", \"\"): v for k, v in state.items()}\n",
    "missing, unexpected = model.load_state_dict(state, strict=False)\n",
    "print(f\"[clf] loaded. missing={len(missing)} unexpected={len(unexpected)}\")\n",
    "\n",
    "# freeze & eval()\n",
    "model = model.to(device).eval();  [p.requires_grad_(False) for p in model.parameters()]\n",
    "feat_extractor = feat_extractor.to(device).eval(); [p.requires_grad_(False) for p in feat_extractor.parameters()]\n",
    "\n",
    "# check accuracy on clean data\n",
    "acc_clean = eval_acc(model, dataset, device)\n",
    "print(f\"[clean acc] {acc_clean*100:.2f}%\")\n"
   ]
  },
  {
   "cell_type": "markdown",
   "id": "4f8c8500",
   "metadata": {},
   "source": [
    "# Compute PR"
   ]
  },
  {
   "cell_type": "code",
   "execution_count": 16,
   "id": "8359015b",
   "metadata": {},
   "outputs": [
    {
     "name": "stdout",
     "output_type": "stream",
     "text": [
      "[PR@clean] used=2358 / seen=2688 (clean acc=87.72%), S=10 → PR=0.3014\n",
      "[PR] used=2358  clean-acc=87.72%  PR=0.3014\n"
     ]
    }
   ],
   "source": [
    "from utils import compute_pr_on_clean_correct_old\n",
    "# whether use encoder & decoder and xdep\n",
    "# all from the loaded GMM package\n",
    "xdep        = meta[\"gmm_config\"][\"xdep\"] \n",
    "use_decoder = meta[\"decoder_info\"].get(\"use_decoder\", False)\n",
    "\n",
    "if xdep:\n",
    "    if eva.encoder_backend == \"classifier\":\n",
    "        encoder_for_eval = feat_extractor\n",
    "    else:\n",
    "        encoder_for_eval = enc_loaded\n",
    "else:\n",
    "    encoder_for_eval = None\n",
    "\n",
    "decoder_for_eval = dec_loaded if use_decoder else None\n",
    "\n",
    "# the batch to be evaluated\n",
    "pr_sel = parse_batch_spec(BATCH_IDX)\n",
    "\n",
    "# compute PR (on clean correct samples)\n",
    "\n",
    "\n",
    "pr, n_used, clean_acc = gmm.compute_pr_on_clean_correct(\n",
    "    model=model,\n",
    "    loader=loader,\n",
    "    out_shape=out_shape,\n",
    "    encoder=encoder_for_eval,\n",
    "    decoder=decoder_for_eval,\n",
    "    S=S_SAMPLES,\n",
    "    gamma=eva.gamma,          # from training snapshot\n",
    "    norm_type=eva.norm,       # from training snapshot\n",
    "    use_decoder=use_decoder,\n",
    "    batch_indices=pr_sel\n",
    ")\n",
    "print(f\"[PR] used={n_used}  clean-acc={clean_acc*100:.2f}%  PR={pr:.4f}\")\n"
   ]
  },
  {
   "cell_type": "markdown",
   "id": "5d7ef6b3",
   "metadata": {},
   "source": [
    "# Visualization \n",
    "## 1. Inputs independent results "
   ]
  },
  {
   "cell_type": "code",
   "execution_count": 17,
   "id": "b1176ad1",
   "metadata": {},
   "outputs": [
    {
     "data": {
      "text/plain": [
       "(torch.Size([7]), torch.Size([7, 3072]), torch.Size([7, 3072, 3072]))"
      ]
     },
     "execution_count": 17,
     "metadata": {},
     "output_type": "execute_result"
    }
   ],
   "source": [
    "from utils.viz_gmm import cov_to_full, plot_tensor_bars\n",
    "import torch \n",
    "import matplotlib.colors as mcolors\n",
    "\n",
    "input_idx = 5\n",
    "blue_cmap = mcolors.LinearSegmentedColormap.from_list(\n",
    "    \"blue_white\", [\"navy\", \"white\"]   # 起点 navy 深蓝, 终点白色\n",
    ")\n",
    "\n",
    "# 8 inputs \n",
    "loader = torch.utils.data.DataLoader(dataset, batch_size=8, shuffle=False, num_workers=2, pin_memory=True)\n",
    "\n",
    "for x, y, _ in loader:\n",
    "    x = x.to(device)\n",
    "    break \n",
    "\n",
    "if xdep:\n",
    "    feat = encoder_for_eval(x) \n",
    "else:\n",
    "    feat = torch.empty(1, 0, device=device) # for x-indep GMM\n",
    "# (1,0) because head expects a batch dimension\n",
    "\n",
    "pi_b, mu_b, cov_b = gmm(feat) # pi:(1,K), mu:(1,K,D)\n",
    "pi = pi_b[input_idx]\n",
    "mu = mu_b[input_idx] \n",
    "\n",
    "K = pi.shape[0] # number of components\n",
    "D = mu.shape[1] # feature dimension\n",
    "\n",
    "# for full Sigma setup\n",
    "if gmm.cov_type == \"diag\":\n",
    "    Sigma = cov_to_full(cov_b[input_idx], \"diag\") # (K,D,D)\n",
    "elif gmm.cov_type == \"full\":\n",
    "    Sigma = cov_to_full(cov_b[input_idx], \"full\")\n",
    "else:\n",
    "    U, sigma = cov_b\n",
    "    Sigma = cov_to_full((U[input_idx], sigma[input_idx]), \"lowrank\")\n",
    "\n",
    "pi.shape, mu.shape, Sigma.shape  # (K,), (K,D), (K,D,D)"
   ]
  },
  {
   "cell_type": "code",
   "execution_count": 18,
   "id": "2748d7c4",
   "metadata": {},
   "outputs": [
    {
     "data": {
      "text/plain": [
       "(<Figure size 395x320 with 1 Axes>,\n",
       " <Axes: title={'center': 'Mixture weights $\\\\pi$'}, xlabel='Component $k$', ylabel='$\\\\pi_k$'>)"
      ]
     },
     "execution_count": 18,
     "metadata": {},
     "output_type": "execute_result"
    },
    {
     "data": {
      "image/png": "[encoded data removed]",
      "text/plain": [
       "<Figure size 395x320 with 1 Axes>"
      ]
     },
     "metadata": {},
     "output_type": "display_data"
    }
   ],
   "source": [
    "plot_tensor_bars(pi, xticks_step=1, \n",
    "                 titles=r\"Mixture weights $\\pi$\", \n",
    "                 ylabel=r\"$\\pi_k$\", \n",
    "                 xlabel=r\"Component $k$\",\n",
    "                 color=\"navy\")"
   ]
  },
  {
   "cell_type": "markdown",
   "id": "2d4445c7",
   "metadata": {},
   "source": [
    "### PCA for distributions "
   ]
  },
  {
   "cell_type": "code",
   "execution_count": 19,
   "id": "34082bfc",
   "metadata": {},
   "outputs": [],
   "source": [
    "from utils.viz_gmm import pick_projection\n",
    "proj, proj_2d = pick_projection(Sigma, pi, max_dim=32)  # (D,d) (D,2)\n",
    "\n",
    "# projection for each component\n",
    "mu_proj = mu @ proj        # (K,d)\n",
    "Sigma_proj = torch.stack([proj.t() @ Sigma[k] @ proj for k in range(K)], dim=0)  # (K,d,d)\n",
    "\n",
    "# 2-d projection for contour plot\n",
    "mu_proj_2d = mu @ proj_2d  # (K,2)\n",
    "Sigma_proj_2d = torch.stack([proj_2d.T @ Sigma[k] @ proj_2d for k in range(K)], dim=0)  # (K,2,2)\n"
   ]
  },
  {
   "cell_type": "code",
   "execution_count": 20,
   "id": "9d8dee8d",
   "metadata": {
    "scrolled": true
   },
   "outputs": [
    {
     "data": {
      "text/plain": [
       "(<Figure size 900x780 with 7 Axes>,\n",
       " array([[<Axes: title={'center': 'K=1'}, ylabel='$\\\\mu$'>,\n",
       "         <Axes: title={'center': 'K=2'}>, <Axes: title={'center': 'K=3'}>],\n",
       "        [<Axes: title={'center': 'K=4'}, ylabel='$\\\\mu$'>,\n",
       "         <Axes: title={'center': 'K=5'}>, <Axes: title={'center': 'K=6'}>],\n",
       "        [<Axes: title={'center': 'K=7'}, ylabel='$\\\\mu$'>, <Axes: >,\n",
       "         <Axes: >]], dtype=object))"
      ]
     },
     "execution_count": 20,
     "metadata": {},
     "output_type": "execute_result"
    },
    {
     "data": {
      "image/png": "[encoded data removed]",
      "text/plain": [
       "<Figure size 900x780 with 7 Axes>"
      ]
     },
     "metadata": {},
     "output_type": "display_data"
    }
   ],
   "source": [
    "plot_tensor_bars(mu_proj, xticks_step=4, \n",
    "                 titles=[f\"K={i+1}\" for i in range(K)], \n",
    "                 ylabel=r\"$\\mu$\",\n",
    "                 color=\"navy\")"
   ]
  },
  {
   "cell_type": "code",
   "execution_count": 21,
   "id": "edc63471",
   "metadata": {},
   "outputs": [
    {
     "data": {
      "image/png": "[encoded data removed]",
      "text/plain": [
       "<Figure size 840x840 with 8 Axes>"
      ]
     },
     "metadata": {},
     "output_type": "display_data"
    }
   ],
   "source": [
    "import matplotlib.colors as mcolors\n",
    "from utils.viz_gmm import plot_tensor_heatmaps\n",
    "import matplotlib.pyplot as plt\n",
    "\n",
    "blue_cmap = mcolors.LinearSegmentedColormap.from_list(\n",
    "    \"blue_white\", [\"navy\", \"white\"]   # 起点 navy 深蓝, 终点白色\n",
    ")\n",
    "\n",
    "plot_tensor_heatmaps(\n",
    "    Sigma_proj,\n",
    "    titles=[rf\"$\\Sigma_{i+1}$\" for i in range(3)],\n",
    "    nrows=3, ncols=3,        # 手动 1 行 3 列\n",
    "    reverse_cmap=True,       # 颜色对调\n",
    "    share_color=True,\n",
    "    xtick_step=5,\n",
    "    cmap=blue_cmap\n",
    ")\n",
    "plt.show()\n"
   ]
  },
  {
   "cell_type": "code",
   "execution_count": 22,
   "id": "a0269fcc",
   "metadata": {},
   "outputs": [
    {
     "data": {
      "text/plain": [
       "(tensor([2.0891e-10, 1.5366e-10, 7.4695e-10, 5.4956e-09, 7.2339e-10, 1.0000e+00,\n",
       "         3.5898e-08], device='cuda:0', grad_fn=<SelectBackward0>),\n",
       " tensor([[  0.0336,   1.2072],\n",
       "         [  0.6364,  -1.3229],\n",
       "         [  0.0283,  -0.2246],\n",
       "         [  0.5942,  -7.1197],\n",
       "         [ -5.0106,  -5.8688],\n",
       "         [-12.7084,  -7.0529],\n",
       "         [  4.0203,  -4.4553]], device='cuda:0', grad_fn=<MmBackward0>),\n",
       " tensor([[[ 9.8214e+00, -2.3421e+00],\n",
       "          [-2.3421e+00,  5.0568e+00]],\n",
       " \n",
       "         [[ 5.7714e+00,  3.1951e+00],\n",
       "          [ 3.1951e+00,  1.1902e+01]],\n",
       " \n",
       "         [[ 9.5895e+00,  3.6859e+00],\n",
       "          [ 3.6859e+00,  1.7376e+01]],\n",
       " \n",
       "         [[ 3.8749e+00, -3.5309e-01],\n",
       "          [-3.5309e-01,  2.7527e+00]],\n",
       " \n",
       "         [[ 2.0734e+01,  9.5088e+00],\n",
       "          [ 9.5088e+00,  8.3733e+00]],\n",
       " \n",
       "         [[ 6.8353e+06,  3.2464e-01],\n",
       "          [ 3.2464e-01,  6.8582e+07]],\n",
       " \n",
       "         [[ 4.9268e+00,  3.2188e+00],\n",
       "          [ 3.2188e+00,  3.5458e+00]]], device='cuda:0',\n",
       "        grad_fn=<StackBackward0>))"
      ]
     },
     "execution_count": 22,
     "metadata": {},
     "output_type": "execute_result"
    }
   ],
   "source": [
    "pi, mu_proj_2d, Sigma_proj_2d  # (K,), (K,2), (K,2,2)"
   ]
  },
  {
   "cell_type": "code",
   "execution_count": 26,
   "id": "3677d254",
   "metadata": {},
   "outputs": [
    {
     "ename": "OutOfMemoryError",
     "evalue": "CUDA out of memory. Tried to allocate 12.82 GiB. GPU 0 has a total capacity of 23.68 GiB of which 8.63 GiB is free. Including non-PyTorch memory, this process has 15.03 GiB memory in use. Of the allocated memory 7.23 GiB is allocated by PyTorch, and 7.46 GiB is reserved by PyTorch but unallocated. If reserved but unallocated memory is large try setting PYTORCH_CUDA_ALLOC_CONF=expandable_segments:True to avoid fragmentation.  See documentation for Memory Management  (https://pytorch.org/docs/stable/notes/cuda.html#environment-variables)",
     "output_type": "error",
     "traceback": [
      "\u001b[0;31m---------------------------------------------------------------------------\u001b[0m",
      "\u001b[0;31mOutOfMemoryError\u001b[0m                          Traceback (most recent call last)",
      "Cell \u001b[0;32mIn[26], line 96\u001b[0m\n\u001b[1;32m     92\u001b[0m         cov_x \u001b[38;5;241m=\u001b[39m (U[input_idx]\u001b[38;5;241m.\u001b[39mto(device), sigma[input_idx]\u001b[38;5;241m.\u001b[39mto(device))\n\u001b[1;32m     95\u001b[0m gmm_mixture \u001b[38;5;241m=\u001b[39m gmm\u001b[38;5;241m.\u001b[39mmixture(pi_x, mu_x, cov_x, cov_type\u001b[38;5;241m=\u001b[39mgmm\u001b[38;5;241m.\u001b[39mcov_type)\n\u001b[0;32m---> 96\u001b[0m X \u001b[38;5;241m=\u001b[39m \u001b[43mgmm_mixture\u001b[49m\u001b[38;5;241;43m.\u001b[39;49m\u001b[43msample\u001b[49m\u001b[43m(\u001b[49m\u001b[43m(\u001b[49m\u001b[38;5;241;43m20000\u001b[39;49m\u001b[43m,\u001b[49m\u001b[43m)\u001b[49m\u001b[43m)\u001b[49m\u001b[38;5;241m.\u001b[39mto(\u001b[38;5;124m\"\u001b[39m\u001b[38;5;124mcpu\u001b[39m\u001b[38;5;124m\"\u001b[39m)\u001b[38;5;241m.\u001b[39mnumpy()  \u001b[38;5;66;03m# (n, D)\u001b[39;00m\n\u001b[1;32m     98\u001b[0m Y \u001b[38;5;241m=\u001b[39m reduce_to_2d(X, method\u001b[38;5;241m=\u001b[39m\u001b[38;5;124m\"\u001b[39m\u001b[38;5;124mpca\u001b[39m\u001b[38;5;124m\"\u001b[39m)   \u001b[38;5;66;03m# 或 \"umap\"\u001b[39;00m\n\u001b[1;32m     99\u001b[0m Xg, Yg, Z, bw \u001b[38;5;241m=\u001b[39m kde_on_grid(Y, gridsize\u001b[38;5;241m=\u001b[39m\u001b[38;5;241m350\u001b[39m)\n",
      "File \u001b[0;32m~/miniconda3/envs/WSPR/lib/python3.10/site-packages/torch/distributions/mixture_same_family.py:183\u001b[0m, in \u001b[0;36mMixtureSameFamily.sample\u001b[0;34m(self, sample_shape)\u001b[0m\n\u001b[1;32m    180\u001b[0m mix_shape \u001b[38;5;241m=\u001b[39m mix_sample\u001b[38;5;241m.\u001b[39mshape\n\u001b[1;32m    182\u001b[0m \u001b[38;5;66;03m# component samples [n, B, k, E]\u001b[39;00m\n\u001b[0;32m--> 183\u001b[0m comp_samples \u001b[38;5;241m=\u001b[39m \u001b[38;5;28;43mself\u001b[39;49m\u001b[38;5;241;43m.\u001b[39;49m\u001b[43mcomponent_distribution\u001b[49m\u001b[38;5;241;43m.\u001b[39;49m\u001b[43msample\u001b[49m\u001b[43m(\u001b[49m\u001b[43msample_shape\u001b[49m\u001b[43m)\u001b[49m\n\u001b[1;32m    185\u001b[0m \u001b[38;5;66;03m# Gather along the k dimension\u001b[39;00m\n\u001b[1;32m    186\u001b[0m mix_sample_r \u001b[38;5;241m=\u001b[39m mix_sample\u001b[38;5;241m.\u001b[39mreshape(\n\u001b[1;32m    187\u001b[0m     mix_shape \u001b[38;5;241m+\u001b[39m torch\u001b[38;5;241m.\u001b[39mSize([\u001b[38;5;241m1\u001b[39m] \u001b[38;5;241m*\u001b[39m (\u001b[38;5;28mlen\u001b[39m(es) \u001b[38;5;241m+\u001b[39m \u001b[38;5;241m1\u001b[39m))\n\u001b[1;32m    188\u001b[0m )\n",
      "File \u001b[0;32m~/miniconda3/envs/WSPR/lib/python3.10/site-packages/torch/distributions/distribution.py:167\u001b[0m, in \u001b[0;36mDistribution.sample\u001b[0;34m(self, sample_shape)\u001b[0m\n\u001b[1;32m    162\u001b[0m \u001b[38;5;250m\u001b[39m\u001b[38;5;124;03m\"\"\"\u001b[39;00m\n\u001b[1;32m    163\u001b[0m \u001b[38;5;124;03mGenerates a sample_shape shaped sample or sample_shape shaped batch of\u001b[39;00m\n\u001b[1;32m    164\u001b[0m \u001b[38;5;124;03msamples if the distribution parameters are batched.\u001b[39;00m\n\u001b[1;32m    165\u001b[0m \u001b[38;5;124;03m\"\"\"\u001b[39;00m\n\u001b[1;32m    166\u001b[0m \u001b[38;5;28;01mwith\u001b[39;00m torch\u001b[38;5;241m.\u001b[39mno_grad():\n\u001b[0;32m--> 167\u001b[0m     \u001b[38;5;28;01mreturn\u001b[39;00m \u001b[38;5;28;43mself\u001b[39;49m\u001b[38;5;241;43m.\u001b[39;49m\u001b[43mrsample\u001b[49m\u001b[43m(\u001b[49m\u001b[43msample_shape\u001b[49m\u001b[43m)\u001b[49m\n",
      "File \u001b[0;32m~/miniconda3/envs/WSPR/lib/python3.10/site-packages/torch/distributions/lowrank_multivariate_normal.py:209\u001b[0m, in \u001b[0;36mLowRankMultivariateNormal.rsample\u001b[0;34m(self, sample_shape)\u001b[0m\n\u001b[1;32m    205\u001b[0m eps_W \u001b[38;5;241m=\u001b[39m _standard_normal(W_shape, dtype\u001b[38;5;241m=\u001b[39m\u001b[38;5;28mself\u001b[39m\u001b[38;5;241m.\u001b[39mloc\u001b[38;5;241m.\u001b[39mdtype, device\u001b[38;5;241m=\u001b[39m\u001b[38;5;28mself\u001b[39m\u001b[38;5;241m.\u001b[39mloc\u001b[38;5;241m.\u001b[39mdevice)\n\u001b[1;32m    206\u001b[0m eps_D \u001b[38;5;241m=\u001b[39m _standard_normal(shape, dtype\u001b[38;5;241m=\u001b[39m\u001b[38;5;28mself\u001b[39m\u001b[38;5;241m.\u001b[39mloc\u001b[38;5;241m.\u001b[39mdtype, device\u001b[38;5;241m=\u001b[39m\u001b[38;5;28mself\u001b[39m\u001b[38;5;241m.\u001b[39mloc\u001b[38;5;241m.\u001b[39mdevice)\n\u001b[1;32m    207\u001b[0m \u001b[38;5;28;01mreturn\u001b[39;00m (\n\u001b[1;32m    208\u001b[0m     \u001b[38;5;28mself\u001b[39m\u001b[38;5;241m.\u001b[39mloc\n\u001b[0;32m--> 209\u001b[0m     \u001b[38;5;241m+\u001b[39m \u001b[43m_batch_mv\u001b[49m\u001b[43m(\u001b[49m\u001b[38;5;28;43mself\u001b[39;49m\u001b[38;5;241;43m.\u001b[39;49m\u001b[43m_unbroadcasted_cov_factor\u001b[49m\u001b[43m,\u001b[49m\u001b[43m \u001b[49m\u001b[43meps_W\u001b[49m\u001b[43m)\u001b[49m\n\u001b[1;32m    210\u001b[0m     \u001b[38;5;241m+\u001b[39m \u001b[38;5;28mself\u001b[39m\u001b[38;5;241m.\u001b[39m_unbroadcasted_cov_diag\u001b[38;5;241m.\u001b[39msqrt() \u001b[38;5;241m*\u001b[39m eps_D\n\u001b[1;32m    211\u001b[0m )\n",
      "File \u001b[0;32m~/miniconda3/envs/WSPR/lib/python3.10/site-packages/torch/distributions/multivariate_normal.py:25\u001b[0m, in \u001b[0;36m_batch_mv\u001b[0;34m(bmat, bvec)\u001b[0m\n\u001b[1;32m     14\u001b[0m \u001b[38;5;28;01mdef\u001b[39;00m\u001b[38;5;250m \u001b[39m\u001b[38;5;21m_batch_mv\u001b[39m(bmat, bvec):\n\u001b[1;32m     15\u001b[0m \u001b[38;5;250m    \u001b[39m\u001b[38;5;124mr\u001b[39m\u001b[38;5;124;03m\"\"\"\u001b[39;00m\n\u001b[1;32m     16\u001b[0m \u001b[38;5;124;03m    Performs a batched matrix-vector product, with compatible but different batch shapes.\u001b[39;00m\n\u001b[1;32m     17\u001b[0m \n\u001b[0;32m   (...)\u001b[0m\n\u001b[1;32m     23\u001b[0m \u001b[38;5;124;03m    just ones which can be broadcasted.\u001b[39;00m\n\u001b[1;32m     24\u001b[0m \u001b[38;5;124;03m    \"\"\"\u001b[39;00m\n\u001b[0;32m---> 25\u001b[0m     \u001b[38;5;28;01mreturn\u001b[39;00m \u001b[43mtorch\u001b[49m\u001b[38;5;241;43m.\u001b[39;49m\u001b[43mmatmul\u001b[49m\u001b[43m(\u001b[49m\u001b[43mbmat\u001b[49m\u001b[43m,\u001b[49m\u001b[43m \u001b[49m\u001b[43mbvec\u001b[49m\u001b[38;5;241;43m.\u001b[39;49m\u001b[43munsqueeze\u001b[49m\u001b[43m(\u001b[49m\u001b[38;5;241;43m-\u001b[39;49m\u001b[38;5;241;43m1\u001b[39;49m\u001b[43m)\u001b[49m\u001b[43m)\u001b[49m\u001b[38;5;241m.\u001b[39msqueeze(\u001b[38;5;241m-\u001b[39m\u001b[38;5;241m1\u001b[39m)\n",
      "\u001b[0;31mOutOfMemoryError\u001b[0m: CUDA out of memory. Tried to allocate 12.82 GiB. GPU 0 has a total capacity of 23.68 GiB of which 8.63 GiB is free. Including non-PyTorch memory, this process has 15.03 GiB memory in use. Of the allocated memory 7.23 GiB is allocated by PyTorch, and 7.46 GiB is reserved by PyTorch but unallocated. If reserved but unallocated memory is large try setting PYTORCH_CUDA_ALLOC_CONF=expandable_segments:True to avoid fragmentation.  See documentation for Memory Management  (https://pytorch.org/docs/stable/notes/cuda.html#environment-variables)"
     ]
    }
   ],
   "source": [
    "\n",
    "import torch\n",
    "import numpy as np\n",
    "import matplotlib.pyplot as plt\n",
    "from torch.distributions import Categorical, MultivariateNormal, MixtureSameFamily\n",
    "from sklearn.decomposition import PCA\n",
    "from sklearn.neighbors import KernelDensity\n",
    "\n",
    "\n",
    "def reduce_to_2d(X, method=\"pca\", random_state=0):\n",
    "    \"\"\"\n",
    "    X: (n, D) numpy\n",
    "    method: 'pca' | 'umap'（需要安装 umap-learn）\n",
    "    return: Y (n, 2)\n",
    "    \"\"\"\n",
    "    if method == \"umap\":\n",
    "        try:\n",
    "            import umap\n",
    "            reducer = umap.UMAP(n_components=2, random_state=random_state)\n",
    "            return reducer.fit_transform(X)\n",
    "        except Exception:\n",
    "            print(\"[reduce_to_2d] umap not available, falling back to PCA.\")\n",
    "    # PCA\n",
    "    return PCA(n_components=2, random_state=random_state).fit_transform(X)\n",
    "\n",
    "def silverman_bandwidth(Y):\n",
    "    \"\"\"\n",
    "    Silverman 经验带宽（各向同性）——给 sklearn.KernelDensity 用。\n",
    "    \"\"\"\n",
    "    n, d = Y.shape\n",
    "    std = Y.std(axis=0, ddof=1).mean()\n",
    "    h = 1.06 * std * n ** (-1.0 / (d + 4))\n",
    "    return max(h, 1e-3)\n",
    "\n",
    "def kde_on_grid(Y, gridsize=300, bandwidth=None, pad=0.05):\n",
    "    \"\"\"\n",
    "    在 2D 点集 Y 上做 KDE，并返回网格与密度。\n",
    "    \"\"\"\n",
    "\n",
    "    Y = np.asarray(Y, dtype=np.float64)\n",
    "    lo = Y.min(axis=0); hi = Y.max(axis=0)\n",
    "    ext = hi - lo\n",
    "    lo = lo - pad * ext; hi = hi + pad * ext\n",
    "\n",
    "    xs = np.linspace(lo[0], hi[0], gridsize)\n",
    "    ys = np.linspace(lo[1], hi[1], gridsize)\n",
    "    Xg, Yg = np.meshgrid(xs, ys, indexing=\"xy\")\n",
    "    grid = np.stack([Xg.ravel(), Yg.ravel()], axis=1)\n",
    "\n",
    "    if bandwidth is None:\n",
    "        bandwidth = silverman_bandwidth(Y)\n",
    "\n",
    "    kde = KernelDensity(kernel=\"gaussian\", bandwidth=bandwidth)\n",
    "    kde.fit(Y)\n",
    "    Z = np.exp(kde.score_samples(grid)).reshape(gridsize, gridsize)\n",
    "    return Xg, Yg, Z, bandwidth\n",
    "\n",
    "def plot_kde_contour(Xg, Yg, Z, points=None, title=\"KDE density (2D)\"):\n",
    "    plt.figure(figsize=(6,6))\n",
    "    cs = plt.contourf(Xg, Yg, Z, levels=20)\n",
    "    plt.contour(Xg, Yg, Z, levels=20, linewidths=0.7, colors=\"white\")\n",
    "    if points is not None:\n",
    "        plt.scatter(points[:,0], points[:,1], s=6, alpha=0.35)\n",
    "    plt.colorbar(cs, label=\"KDE density\")\n",
    "    plt.axis(\"equal\"); plt.xlabel(\"dim-1\"); plt.ylabel(\"dim-2\")\n",
    "    plt.title(title); plt.tight_layout(); plt.show()\n",
    "\n",
    "# ---------------------- usage A: x-independent GMM ----------------------\n",
    "# 假设你已有高维参数（在 CPU 上）：pi:(K,), mu:(K,D), Sigma:(K,D,D)\n",
    "# pi, mu, Sigma = <your tensors>.detach().cpu()\n",
    "\n",
    "# X = sample_from_gmm(pi, mu, Sigma, n=30000, seed=0)   # 采样\n",
    "# Y = reduce_to_2d(X, method=\"pca\")                     # 或 method=\"umap\"\n",
    "# Xg, Yg, Z, bw = kde_on_grid(Y, gridsize=350)\n",
    "# plot_kde_contour(Xg, Yg, Z, points=Y, title=f\"KDE (bw={bw:.3g})\")\n",
    "\n",
    "# ---------------------- usage B: x-dependent GMM ----------------------\n",
    "# 给定一张输入 x0，用你的 encoder/gmm 得到该样本的 (pi(x0), mu(x0), Sigma(x0)) 后再做：\n",
    "# 例子（接口按你之前脚本）：\n",
    "input_idx = 0  # 选择 x 中的某个样本\n",
    "with torch.no_grad():\n",
    "    z = encoder_for_eval(x.to(device))\n",
    "    pi_b, mu_b, cov_b = gmm(z)     # pi:(1,K), mu:(1,K,D), cov:...\n",
    "    pi_x = pi_b[input_idx].to(device)\n",
    "    mu_x = mu_b[input_idx].to(device)\n",
    "    # unpack cov\n",
    "    if gmm.cov_type == \"diag\":\n",
    "        cov_x = cov_b[0][input_idx].to(device)  # tuple with one element\n",
    "    elif gmm.cov_type == \"full\":\n",
    "        cov_x = cov_b[input_idx].to(device)    # tuple with one element\n",
    "    else:  # lowrank\n",
    "        U, sigma = cov_b\n",
    "        cov_x = (U[input_idx].to(device), sigma[input_idx].to(device))\n",
    "\n",
    "\n",
    "gmm_mixture = gmm.mixture(pi_x, mu_x, cov_x, cov_type=gmm.cov_type)\n",
    "X = gmm_mixture.sample((20000,)).to(\"cpu\").numpy()  # (n, D)\n",
    "\n",
    "Y = reduce_to_2d(X, method=\"pca\")   # 或 \"umap\"\n",
    "Xg, Yg, Z, bw = kde_on_grid(Y, gridsize=350)\n",
    "plot_kde_contour(Xg, Yg, Z, points=Y, title=f\"x-dependent KDE (idx={input_idx}, bw={bw:.3g})\")\n"
   ]
  },
  {
   "cell_type": "code",
   "execution_count": null,
   "id": "ec093e01-504a-4523-bbc7-9b14b916f44d",
   "metadata": {},
   "outputs": [],
   "source": []
  }
 ],
 "metadata": {
  "kernelspec": {
   "display_name": "Python 3 (ipykernel)",
   "language": "python",
   "name": "python3"
  },
  "language_info": {
   "codemirror_mode": {
    "name": "ipython",
    "version": 3
   },
   "file_extension": ".py",
   "mimetype": "text/x-python",
   "name": "python",
   "nbconvert_exporter": "python",
   "pygments_lexer": "ipython3",
   "version": "3.10.18"
  }
 },
 "nbformat": 4,
 "nbformat_minor": 5
}
